{
 "cells": [
  {
   "cell_type": "code",
   "execution_count": 1,
   "metadata": {},
   "outputs": [],
   "source": [
    "# Project 1\n",
    "# Using CNN (Handwritten Digit Classification)\n",
    "\n",
    "from tensorflow.python.keras import backend as K\n",
    "from tensorflow.python.keras.datasets import mnist\n",
    "from tensorflow.python.keras.models import Sequential\n",
    "from tensorflow.python.keras.layers import Dense\n",
    "from tensorflow.python.keras.layers import Dropout\n",
    "from tensorflow.python.keras.utils import np_utils\n",
    "\n",
    "from tensorflow.python.keras.layers import Flatten, Activation\n",
    "from tensorflow.python.keras.layers.convolutional import Conv2D\n",
    "from tensorflow.python.keras.layers.convolutional import MaxPooling2D\n",
    "\n",
    "import pandas as pd\n",
    "import numpy as np\n",
    "from matplotlib import pyplot as plt\n",
    "%matplotlib inline\n",
    "\n",
    "(X_train, y_train),(X_test, y_test) = mnist.load_data()"
   ]
  },
  {
   "cell_type": "code",
   "execution_count": 2,
   "metadata": {},
   "outputs": [],
   "source": [
    "# reshape to be [samples][width][height][channels]   & type Conversion (for Normalization) to float\n",
    "X_train = X_train.reshape(X_train.shape[0],28,28,1).astype('float32')\n",
    "\n",
    "X_test = X_test.reshape(X_test.shape[0],28,28,1).astype('float32')"
   ]
  },
  {
   "cell_type": "code",
   "execution_count": 3,
   "metadata": {},
   "outputs": [],
   "source": [
    "# normalize inputs from 0-255 to 0-1\n",
    "X_train = X_train / 255.0\n",
    "X_test = X_test / 255.0"
   ]
  },
  {
   "cell_type": "code",
   "execution_count": 4,
   "metadata": {},
   "outputs": [],
   "source": [
    "# one hot encode outputs\n",
    "y_train = np_utils.to_categorical(y_train)\n",
    "y_test = np_utils.to_categorical(y_test)\n",
    "num_classes = y_test.shape[1]"
   ]
  },
  {
   "cell_type": "code",
   "execution_count": 5,
   "metadata": {},
   "outputs": [],
   "source": [
    "# define a simple CNN model\n",
    "def baseline_model():\n",
    "\t# create model\n",
    "\tmodel = Sequential()\n",
    "\tmodel.add(Conv2D(32, (3,3), input_shape=(28, 28, 1), activation='relu'))\n",
    "\tmodel.add(MaxPooling2D(pool_size=(2,2)))\n",
    "\tmodel.add(Dropout(0.2))\n",
    "\tmodel.add(Flatten())\n",
    "\tmodel.add(Dense(128, activation='relu'))\n",
    "\tmodel.add(Dense(num_classes, activation='softmax'))\n",
    "\t# Compile model\n",
    "\tmodel.compile(loss='categorical_crossentropy', optimizer='adam', metrics=['accuracy'])\n",
    "\treturn model"
   ]
  },
  {
   "cell_type": "code",
   "execution_count": 6,
   "metadata": {},
   "outputs": [
    {
     "name": "stdout",
     "output_type": "stream",
     "text": [
      "WARNING:tensorflow:From C:\\Users\\Chota_Don\\Anaconda3\\envs\\PythonGPU\\lib\\site-packages\\tensorflow\\python\\ops\\init_ops.py:1251: calling VarianceScaling.__init__ (from tensorflow.python.ops.init_ops) with dtype is deprecated and will be removed in a future version.\n",
      "Instructions for updating:\n",
      "Call initializer instance with the dtype argument instead of passing it to the constructor\n"
     ]
    }
   ],
   "source": [
    "# build the model\n",
    "model = baseline_model()"
   ]
  },
  {
   "cell_type": "code",
   "execution_count": 7,
   "metadata": {},
   "outputs": [
    {
     "name": "stdout",
     "output_type": "stream",
     "text": [
      "Train on 60000 samples, validate on 10000 samples\n",
      "Epoch 1/10\n",
      "60000/60000 [==============================] - 15s 247us/sample - loss: 0.1607 - acc: 0.9517 - val_loss: 0.0583 - val_acc: 0.9810\n",
      "Epoch 2/10\n",
      "60000/60000 [==============================] - 13s 220us/sample - loss: 0.0589 - acc: 0.9814 - val_loss: 0.0452 - val_acc: 0.9854\n",
      "Epoch 3/10\n",
      "60000/60000 [==============================] - 13s 220us/sample - loss: 0.0392 - acc: 0.9881 - val_loss: 0.0463 - val_acc: 0.9847\n",
      "Epoch 4/10\n",
      "60000/60000 [==============================] - 13s 221us/sample - loss: 0.0283 - acc: 0.9910 - val_loss: 0.0342 - val_acc: 0.9889\n",
      "Epoch 5/10\n",
      "60000/60000 [==============================] - 15s 243us/sample - loss: 0.0208 - acc: 0.9931 - val_loss: 0.0390 - val_acc: 0.9881\n",
      "Epoch 6/10\n",
      "60000/60000 [==============================] - 15s 250us/sample - loss: 0.0161 - acc: 0.9948 - val_loss: 0.0364 - val_acc: 0.9882\n",
      "Epoch 7/10\n",
      "60000/60000 [==============================] - 15s 250us/sample - loss: 0.0123 - acc: 0.9958 - val_loss: 0.0381 - val_acc: 0.9879\n",
      "Epoch 8/10\n",
      "60000/60000 [==============================] - 15s 253us/sample - loss: 0.0104 - acc: 0.9965 - val_loss: 0.0417 - val_acc: 0.9883\n",
      "Epoch 9/10\n",
      "60000/60000 [==============================] - 15s 250us/sample - loss: 0.0088 - acc: 0.9970 - val_loss: 0.0467 - val_acc: 0.9876\n",
      "Epoch 10/10\n",
      "60000/60000 [==============================] - 15s 255us/sample - loss: 0.0070 - acc: 0.9977 - val_loss: 0.0507 - val_acc: 0.9877\n"
     ]
    },
    {
     "data": {
      "text/plain": [
       "<tensorflow.python.keras.callbacks.History at 0x1cebfa99288>"
      ]
     },
     "execution_count": 7,
     "metadata": {},
     "output_type": "execute_result"
    }
   ],
   "source": [
    "# Fit the model\n",
    "model.fit(X_train, y_train, validation_data=(X_test, y_test), epochs=10, batch_size=32, verbose=1)\n",
    "# NOTE: If you had been using same training set for validation, the you'd\n",
    "#to use -->  validation_split=0.3   (to split training 30% data for testing)\n"
   ]
  },
  {
   "cell_type": "code",
   "execution_count": 8,
   "metadata": {},
   "outputs": [
    {
     "name": "stdout",
     "output_type": "stream",
     "text": [
      "Score:  98.76999855041504 %\n"
     ]
    }
   ],
   "source": [
    "# Final evaluation of the model\n",
    "scores = model.evaluate(X_test, y_test, verbose=0)\n",
    "#HumbleBee\n",
    "print(\"Score: \",scores[1]*100, \"%\")"
   ]
  },
  {
   "cell_type": "code",
   "execution_count": 11,
   "metadata": {},
   "outputs": [
    {
     "data": {
      "text/plain": [
       "'...'"
      ]
     },
     "execution_count": 11,
     "metadata": {},
     "output_type": "execute_result"
    }
   ],
   "source": [
    "\"\"\"\n",
    "# define the larger model\n",
    "def larger_model():\n",
    "\t# create model\n",
    "\tmodel = Sequential()\n",
    "\tmodel.add(Conv2D(30, (5, 5), input_shape=(28, 28, 1), activation='relu'))\n",
    "\tmodel.add(MaxPooling2D())\n",
    "\tmodel.add(Conv2D(15, (3, 3), activation='relu'))\n",
    "\tmodel.add(MaxPooling2D())\n",
    "\tmodel.add(Dropout(0.2))\n",
    "\tmodel.add(Flatten())\n",
    "\tmodel.add(Dense(128, activation='relu'))\n",
    "\tmodel.add(Dense(50, activation='relu'))\n",
    "\tmodel.add(Dense(num_classes, activation='softmax'))\n",
    "\t# Compile model\n",
    "\tmodel.compile(loss='categorical_crossentropy', optimizer='adam', metrics=['accuracy'])\n",
    "\treturn model\n",
    "# build the model\n",
    "model2 = larger_model()\n",
    "# Fit the model\n",
    "model2.fit(X_train, y_train, validation_data=(X_test, y_test), epochs=10, batch_size=200)\n",
    "# Final evaluation of the model\n",
    "scores = model2.evaluate(X_test, y_test, verbose=0)\n",
    "print(\"Large CNN Error: %.2f%%\" % (100-scores[1]*100))\n",
    "\"\"\"\n",
    "\"\"\"...\"\"\""
   ]
  },
  {
   "cell_type": "markdown",
   "metadata": {},
   "source": [
    "# Now Working with a GUI Interface (using Tkinter)"
   ]
  },
  {
   "cell_type": "code",
   "execution_count": 12,
   "metadata": {},
   "outputs": [],
   "source": [
    "from numpy import argmax   #To find the index of maximum Value (for finding the Predicted Output Digit)\n",
    "from tkinter import *\n",
    "import tkinter as tk    # GUI Library\n",
    "import math\n",
    "from PIL import Image, ImageDraw  #Python Imaging Library"
   ]
  },
  {
   "cell_type": "code",
   "execution_count": 14,
   "metadata": {},
   "outputs": [],
   "source": [
    "white = (255, 255, 255)\n",
    "black = (0, 0, 0)\n",
    "window = Tk()\n",
    " \n",
    "window.title(\"Handwriting Calculator\")\n",
    " \n",
    "window.geometry('500x500')\n",
    " \n",
    "lbl = Label(window, text=\"Write digits with your mouse in the gray square\",font=('Arial Bold',15))\n",
    " \n",
    "lbl.grid(column=3, row=0)\n",
    " \n",
    "canvas_width = 120\n",
    "canvas_height = 120\n",
    "image1 = Image.new(\"RGB\", (canvas_width, canvas_height),white)\n",
    "draw = ImageDraw.Draw(image1)\n",
    "counter=0\n",
    "xpoints=[]\n",
    "ypoints=[]\n",
    "x2points=[]\n",
    "y2points=[]\n",
    "global predictions\n",
    "predictions = []\n",
    "number1 = []\n",
    "digits=0\n",
    "\n",
    "def paint( event ):\n",
    "    x1, y1 = ( event.x - 4 ), ( event.y - 4 )\n",
    "    x2, y2 = ( event.x + 4 ), ( event.y + 4 )\n",
    "    w.create_oval( x1, y1, x2, y2, fill = 'black' )\n",
    "    xpoints.append(x1)\n",
    "    ypoints.append(y1)\n",
    "    x2points.append(x2) \n",
    "    y2points.append(y2)    \n",
    "    \n",
    "def imagen ():\n",
    "    global counter\n",
    "    global xpoints\n",
    "    global ypoints    \n",
    "    global x2points\n",
    "    global y2points\n",
    "    counter=counter+1\n",
    "\n",
    "    image1 = Image.new(\"RGB\", (canvas_width, canvas_height),black)\n",
    "    draw = ImageDraw.Draw(image1) \n",
    "\n",
    "    elementos=len(xpoints)\n",
    "    \n",
    "    \n",
    "\n",
    "    for p in range (elementos):\n",
    "        x=xpoints[p]\n",
    "        y=ypoints[p]\n",
    "        x2=x2points[p]\n",
    "        y2=y2points[p] \n",
    "        draw.ellipse((x,y,x2,y2),'white')\n",
    "        w.create_oval( x-4, y-4, x2+4, y2+4,outline='gray85', fill = 'gray85' )\n",
    "\n",
    "    size=(28,28)\n",
    "    image1 = image1.resize(size)\n",
    "\n",
    "    \n",
    "    image1 = image1.convert('L')\n",
    "    image1 = np.array(image1)\n",
    "    image1 = image1.reshape(-1, 28, 28, 1)\n",
    "    image1 = image1.astype('float32')\n",
    "    image1 /= 255.0\n",
    "\n",
    "    \n",
    "    predictions.append(argmax(model.predict(image1)))\n",
    "    lbl2 = Label(window, text=predictions[counter-1],font=('Arial Bold',20))\n",
    "    lbl2.grid(column=3, row=10)\n",
    "    \n",
    "\n",
    "    xpoints=[]\n",
    "    ypoints=[]\n",
    "    x2points=[]\n",
    "    y2points=[] \n",
    "\n",
    "\n",
    "w = Canvas(window, \n",
    "           width=canvas_width, \n",
    "           height=canvas_height,bg='gray85')\n",
    "w.grid(column=3,row=2)\n",
    "def delete ():\n",
    "    global counter\n",
    "    counter = counter-1\n",
    "    del predictions[counter]\n",
    "    w1 = Canvas(window, \n",
    "           width=200, \n",
    "           height=20,bg='gray95')\n",
    "    w1.grid(column=3,row=10)\n",
    "    \n",
    "\n",
    "def add():\n",
    "    global operation\n",
    "    global counter\n",
    "    global digits\n",
    "    digits=counter\n",
    "    operation = 'add'\n",
    "def subtract():\n",
    "    global operation\n",
    "    global counter\n",
    "    global digits\n",
    "    digits=counter\n",
    "    operation = 'subtract'\n",
    "def multiply():\n",
    "    global operation\n",
    "    global counter\n",
    "    global digits\n",
    "    digits=counter\n",
    "    operation = 'multiply'\n",
    "def divide():\n",
    "    global operation\n",
    "    global counter\n",
    "    global digits\n",
    "    digits=counter\n",
    "    operation = 'divide'\n",
    "def equals():\n",
    "    digitone=''\n",
    "    digittwo=''\n",
    "    global digits\n",
    "    global predictions\n",
    "    global counter\n",
    "    digitstotal=len(predictions)\n",
    "    for x in range(digits):\n",
    "        digitone=digitone+str(predictions[x])\n",
    "        predictions[0]=int(digitone)\n",
    "    for x in range(digits,digitstotal):\n",
    "        digittwo=digittwo+str(predictions[x])       \n",
    "        predictions[1]=int(digittwo)\n",
    "    \n",
    "    if operation == 'add':\n",
    "        answer = predictions[0]+predictions[1]\n",
    "    if operation == 'subtract':\n",
    "        answer = predictions[0]-predictions[1]\n",
    "    if operation == 'multiply':\n",
    "        answer = predictions[0]*predictions[1]\n",
    "    if operation == 'divide':\n",
    "        answer = predictions[0]/predictions[1]\n",
    "        \n",
    "    lbl2 = Label(window, text=answer,font=('Arial Bold',20))\n",
    "    lbl2.grid(column=3, row=10)\n",
    "    predictions=[]\n",
    "    counter=0\n",
    "def reset():\n",
    "    global predictions\n",
    "    global counter\n",
    "    predictions=[]\n",
    "    counter=0\n",
    "    w1 = Canvas(window, \n",
    "           width=200, \n",
    "           height=20,bg='gray95')\n",
    "    w1.grid(column=3,row=10)\n",
    "w1 = Canvas(window, width=200, height=20,bg='gray95')\n",
    "w1.grid(column=3,row=10)\n",
    "\n",
    "w.bind( \"<B1-Motion>\", paint )\n",
    "button = tk.Button(window, text='Save image', width=25, command=imagen)\n",
    "button.grid(column=3,row=3)\n",
    "\n",
    "button2 = tk.Button(window, text='Add', width=25, command=add)\n",
    "button2.grid(column=3,row=5)\n",
    "\n",
    "button3 = tk.Button(window, text='Subtract', width=25, command=subtract)\n",
    "button3.grid(column=3,row=6)\n",
    "\n",
    "button4 = tk.Button(window, text='Multiply', width=25, command=multiply)\n",
    "button4.grid(column=3,row=7)\n",
    "\n",
    "button5 = tk.Button(window, text='Divide', width=25, command=divide)\n",
    "button5.grid(column=3,row=8)\n",
    "\n",
    "button6 = tk.Button(window, text='=', width=25, command=equals)\n",
    "button6.grid(column=3,row=9)\n",
    "\n",
    "button6 = tk.Button(window, text='Click here if the number is not correct', width=35, command=delete)\n",
    "button6.grid(column=3,row=12)\n",
    "\n",
    "button7 = tk.Button(window, text='Reset', width=25, command=reset)\n",
    "button7.grid(column=3,row=13)\n",
    "\n",
    "\n",
    "window.mainloop()"
   ]
  },
  {
   "cell_type": "code",
   "execution_count": null,
   "metadata": {},
   "outputs": [],
   "source": []
  }
 ],
 "metadata": {
  "kernelspec": {
   "display_name": "Python 3",
   "language": "python",
   "name": "python3"
  },
  "language_info": {
   "codemirror_mode": {
    "name": "ipython",
    "version": 3
   },
   "file_extension": ".py",
   "mimetype": "text/x-python",
   "name": "python",
   "nbconvert_exporter": "python",
   "pygments_lexer": "ipython3",
   "version": "3.7.4"
  }
 },
 "nbformat": 4,
 "nbformat_minor": 2
}
